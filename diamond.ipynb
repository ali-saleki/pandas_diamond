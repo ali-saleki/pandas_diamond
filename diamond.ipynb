{
 "cells": [
  {
   "cell_type": "markdown",
   "metadata": {},
   "source": [
    "quality list of diamonds"
   ]
  },
  {
   "cell_type": "code",
   "execution_count": 1,
   "metadata": {},
   "outputs": [],
   "source": [
    "cut = ['Ideal', 'Premium', 'Premium', 'Premium', 'Premium', 'Very Good',\n",
    "       'Premium', 'Premium', 'Ideal', 'Premium', 'Good', 'Good', 'Premium', \n",
    "       'Very Good', 'Very Good', 'Good', 'Good','Very Good', 'Good', 'Good', \n",
    "       'Premium', 'Premium', 'Good', 'Good']"
   ]
  },
  {
   "cell_type": "markdown",
   "metadata": {},
   "source": [
    "convert it into pandas data series"
   ]
  },
  {
   "cell_type": "code",
   "execution_count": 2,
   "metadata": {},
   "outputs": [
    {
     "name": "stderr",
     "output_type": "stream",
     "text": [
      "C:\\Users\\LENOVO\\AppData\\Local\\Temp\\ipykernel_5036\\3337579576.py:1: DeprecationWarning: \n",
      "Pyarrow will become a required dependency of pandas in the next major release of pandas (pandas 3.0),\n",
      "(to allow more performant data types, such as the Arrow string type, and better interoperability with other libraries)\n",
      "but was not found to be installed on your system.\n",
      "If this would cause problems for you,\n",
      "please provide us feedback at https://github.com/pandas-dev/pandas/issues/54466\n",
      "        \n",
      "  import pandas as pd\n"
     ]
    },
    {
     "data": {
      "text/plain": [
       "0         Ideal\n",
       "1       Premium\n",
       "2       Premium\n",
       "3       Premium\n",
       "4       Premium\n",
       "5     Very Good\n",
       "6       Premium\n",
       "7       Premium\n",
       "8         Ideal\n",
       "9       Premium\n",
       "10         Good\n",
       "11         Good\n",
       "12      Premium\n",
       "13    Very Good\n",
       "14    Very Good\n",
       "15         Good\n",
       "16         Good\n",
       "17    Very Good\n",
       "18         Good\n",
       "19         Good\n",
       "20      Premium\n",
       "21      Premium\n",
       "22         Good\n",
       "23         Good\n",
       "dtype: object"
      ]
     },
     "execution_count": 2,
     "metadata": {},
     "output_type": "execute_result"
    }
   ],
   "source": [
    "import pandas as pd\n",
    "cut_series = pd.Series(cut)\n",
    "cut_series"
   ]
  },
  {
   "cell_type": "markdown",
   "metadata": {},
   "source": [
    "count each quality and group it ascending"
   ]
  },
  {
   "cell_type": "code",
   "execution_count": 3,
   "metadata": {},
   "outputs": [
    {
     "data": {
      "text/plain": [
       "Ideal         2\n",
       "Very Good     4\n",
       "Good          8\n",
       "Premium      10\n",
       "Name: count, dtype: int64"
      ]
     },
     "execution_count": 3,
     "metadata": {},
     "output_type": "execute_result"
    }
   ],
   "source": [
    "cut_sorted = cut_series.value_counts(ascending=True)\n",
    "cut_sorted"
   ]
  },
  {
   "cell_type": "markdown",
   "metadata": {},
   "source": [
    "carat list of each diamond"
   ]
  },
  {
   "cell_type": "code",
   "execution_count": 4,
   "metadata": {},
   "outputs": [],
   "source": [
    "carat = [1.07, 1.19, 1.19, 1.2, 1.2, 1.25, 1.2, 1.2, 1.2,\n",
    "         1.14, 1.01, 1.01, 1.01, 1.02, 1.01, 1.01, 1.01, \n",
    "         1.01, 1.01, 1.01, 1.01, 1.01, 1.0, 1.0]"
   ]
  },
  {
   "cell_type": "markdown",
   "metadata": {},
   "source": [
    "convert the carat list into pandas data series"
   ]
  },
  {
   "cell_type": "code",
   "execution_count": 5,
   "metadata": {},
   "outputs": [
    {
     "data": {
      "text/plain": [
       "0     1.07\n",
       "1     1.19\n",
       "2     1.19\n",
       "3     1.20\n",
       "4     1.20\n",
       "5     1.25\n",
       "6     1.20\n",
       "7     1.20\n",
       "8     1.20\n",
       "9     1.14\n",
       "10    1.01\n",
       "11    1.01\n",
       "12    1.01\n",
       "13    1.02\n",
       "14    1.01\n",
       "15    1.01\n",
       "16    1.01\n",
       "17    1.01\n",
       "18    1.01\n",
       "19    1.01\n",
       "20    1.01\n",
       "21    1.01\n",
       "22    1.00\n",
       "23    1.00\n",
       "dtype: float64"
      ]
     },
     "execution_count": 5,
     "metadata": {},
     "output_type": "execute_result"
    }
   ],
   "source": [
    "carat_series = pd.Series(carat)\n",
    "carat_series"
   ]
  },
  {
   "cell_type": "markdown",
   "metadata": {},
   "source": [
    "75th percentile of carat"
   ]
  },
  {
   "cell_type": "code",
   "execution_count": 6,
   "metadata": {},
   "outputs": [
    {
     "data": {
      "text/plain": [
       "1.1925"
      ]
     },
     "execution_count": 6,
     "metadata": {},
     "output_type": "execute_result"
    }
   ],
   "source": [
    "import numpy as np\n",
    "carat_75 = np.percentile(carat_series, 75, axis=0)\n",
    "carat_75"
   ]
  },
  {
   "cell_type": "markdown",
   "metadata": {},
   "source": [
    "loading the size of carats"
   ]
  },
  {
   "cell_type": "code",
   "execution_count": 7,
   "metadata": {},
   "outputs": [
    {
     "data": {
      "text/plain": [
       "array([[6.46, 6.42, 4.09],\n",
       "       [6.87, 6.84, 4.17],\n",
       "       [6.73, 6.66, 4.2],\n",
       "       [6.77, 6.72, 4.22],\n",
       "       [6.77, 6.72, 4.22],\n",
       "       [6.86, 6.9, 4.27],\n",
       "       [6.93, 6.8, 4.24],\n",
       "       [6.86, 6.74, 4.21],\n",
       "       [6.73, 6.68, 4.24],\n",
       "       [6.76, 6.72, 4.13],\n",
       "       [6.19, 6.23, 4.05],\n",
       "       [6.48, 6.5, 3.79],\n",
       "       [6.46, 6.41, 3.94],\n",
       "       [6.34, 6.41, 4.06],\n",
       "       [6.35, 6.3, 4.0],\n",
       "       [6.35, 6.3, 4.02],\n",
       "       [6.37, 6.31, 4.05],\n",
       "       [6.39, 6.34, 4.02],\n",
       "       [6.4, 6.32, 4.05],\n",
       "       [6.58, 6.53, 3.77],\n",
       "       [6.46, 6.37, 3.92],\n",
       "       [6.44, 6.38, 3.95],\n",
       "       [6.33, 6.38, 4.01],\n",
       "       [6.27, 6.31, 3.99]], dtype=object)"
      ]
     },
     "execution_count": 7,
     "metadata": {},
     "output_type": "execute_result"
    }
   ],
   "source": [
    "import numpy as np\n",
    "\n",
    "sizes = np.load('sizes.npz', allow_pickle=True)\n",
    "sizes_array = sizes['sizes']\n",
    "sizes_array"
   ]
  },
  {
   "cell_type": "markdown",
   "metadata": {},
   "source": [
    "create pandas data frame of carats' sizes "
   ]
  },
  {
   "cell_type": "code",
   "execution_count": 8,
   "metadata": {},
   "outputs": [
    {
     "data": {
      "text/html": [
       "<div>\n",
       "<style scoped>\n",
       "    .dataframe tbody tr th:only-of-type {\n",
       "        vertical-align: middle;\n",
       "    }\n",
       "\n",
       "    .dataframe tbody tr th {\n",
       "        vertical-align: top;\n",
       "    }\n",
       "\n",
       "    .dataframe thead th {\n",
       "        text-align: right;\n",
       "    }\n",
       "</style>\n",
       "<table border=\"1\" class=\"dataframe\">\n",
       "  <thead>\n",
       "    <tr style=\"text-align: right;\">\n",
       "      <th></th>\n",
       "      <th>x</th>\n",
       "      <th>y</th>\n",
       "      <th>z</th>\n",
       "    </tr>\n",
       "  </thead>\n",
       "  <tbody>\n",
       "    <tr>\n",
       "      <th>0</th>\n",
       "      <td>6.46</td>\n",
       "      <td>6.42</td>\n",
       "      <td>4.09</td>\n",
       "    </tr>\n",
       "    <tr>\n",
       "      <th>1</th>\n",
       "      <td>6.87</td>\n",
       "      <td>6.84</td>\n",
       "      <td>4.17</td>\n",
       "    </tr>\n",
       "    <tr>\n",
       "      <th>2</th>\n",
       "      <td>6.73</td>\n",
       "      <td>6.66</td>\n",
       "      <td>4.2</td>\n",
       "    </tr>\n",
       "    <tr>\n",
       "      <th>3</th>\n",
       "      <td>6.77</td>\n",
       "      <td>6.72</td>\n",
       "      <td>4.22</td>\n",
       "    </tr>\n",
       "    <tr>\n",
       "      <th>4</th>\n",
       "      <td>6.77</td>\n",
       "      <td>6.72</td>\n",
       "      <td>4.22</td>\n",
       "    </tr>\n",
       "    <tr>\n",
       "      <th>5</th>\n",
       "      <td>6.86</td>\n",
       "      <td>6.9</td>\n",
       "      <td>4.27</td>\n",
       "    </tr>\n",
       "    <tr>\n",
       "      <th>6</th>\n",
       "      <td>6.93</td>\n",
       "      <td>6.8</td>\n",
       "      <td>4.24</td>\n",
       "    </tr>\n",
       "    <tr>\n",
       "      <th>7</th>\n",
       "      <td>6.86</td>\n",
       "      <td>6.74</td>\n",
       "      <td>4.21</td>\n",
       "    </tr>\n",
       "    <tr>\n",
       "      <th>8</th>\n",
       "      <td>6.73</td>\n",
       "      <td>6.68</td>\n",
       "      <td>4.24</td>\n",
       "    </tr>\n",
       "    <tr>\n",
       "      <th>9</th>\n",
       "      <td>6.76</td>\n",
       "      <td>6.72</td>\n",
       "      <td>4.13</td>\n",
       "    </tr>\n",
       "    <tr>\n",
       "      <th>10</th>\n",
       "      <td>6.19</td>\n",
       "      <td>6.23</td>\n",
       "      <td>4.05</td>\n",
       "    </tr>\n",
       "    <tr>\n",
       "      <th>11</th>\n",
       "      <td>6.48</td>\n",
       "      <td>6.5</td>\n",
       "      <td>3.79</td>\n",
       "    </tr>\n",
       "    <tr>\n",
       "      <th>12</th>\n",
       "      <td>6.46</td>\n",
       "      <td>6.41</td>\n",
       "      <td>3.94</td>\n",
       "    </tr>\n",
       "    <tr>\n",
       "      <th>13</th>\n",
       "      <td>6.34</td>\n",
       "      <td>6.41</td>\n",
       "      <td>4.06</td>\n",
       "    </tr>\n",
       "    <tr>\n",
       "      <th>14</th>\n",
       "      <td>6.35</td>\n",
       "      <td>6.3</td>\n",
       "      <td>4.0</td>\n",
       "    </tr>\n",
       "    <tr>\n",
       "      <th>15</th>\n",
       "      <td>6.35</td>\n",
       "      <td>6.3</td>\n",
       "      <td>4.02</td>\n",
       "    </tr>\n",
       "    <tr>\n",
       "      <th>16</th>\n",
       "      <td>6.37</td>\n",
       "      <td>6.31</td>\n",
       "      <td>4.05</td>\n",
       "    </tr>\n",
       "    <tr>\n",
       "      <th>17</th>\n",
       "      <td>6.39</td>\n",
       "      <td>6.34</td>\n",
       "      <td>4.02</td>\n",
       "    </tr>\n",
       "    <tr>\n",
       "      <th>18</th>\n",
       "      <td>6.4</td>\n",
       "      <td>6.32</td>\n",
       "      <td>4.05</td>\n",
       "    </tr>\n",
       "    <tr>\n",
       "      <th>19</th>\n",
       "      <td>6.58</td>\n",
       "      <td>6.53</td>\n",
       "      <td>3.77</td>\n",
       "    </tr>\n",
       "    <tr>\n",
       "      <th>20</th>\n",
       "      <td>6.46</td>\n",
       "      <td>6.37</td>\n",
       "      <td>3.92</td>\n",
       "    </tr>\n",
       "    <tr>\n",
       "      <th>21</th>\n",
       "      <td>6.44</td>\n",
       "      <td>6.38</td>\n",
       "      <td>3.95</td>\n",
       "    </tr>\n",
       "    <tr>\n",
       "      <th>22</th>\n",
       "      <td>6.33</td>\n",
       "      <td>6.38</td>\n",
       "      <td>4.01</td>\n",
       "    </tr>\n",
       "    <tr>\n",
       "      <th>23</th>\n",
       "      <td>6.27</td>\n",
       "      <td>6.31</td>\n",
       "      <td>3.99</td>\n",
       "    </tr>\n",
       "  </tbody>\n",
       "</table>\n",
       "</div>"
      ],
      "text/plain": [
       "       x     y     z\n",
       "0   6.46  6.42  4.09\n",
       "1   6.87  6.84  4.17\n",
       "2   6.73  6.66   4.2\n",
       "3   6.77  6.72  4.22\n",
       "4   6.77  6.72  4.22\n",
       "5   6.86   6.9  4.27\n",
       "6   6.93   6.8  4.24\n",
       "7   6.86  6.74  4.21\n",
       "8   6.73  6.68  4.24\n",
       "9   6.76  6.72  4.13\n",
       "10  6.19  6.23  4.05\n",
       "11  6.48   6.5  3.79\n",
       "12  6.46  6.41  3.94\n",
       "13  6.34  6.41  4.06\n",
       "14  6.35   6.3   4.0\n",
       "15  6.35   6.3  4.02\n",
       "16  6.37  6.31  4.05\n",
       "17  6.39  6.34  4.02\n",
       "18   6.4  6.32  4.05\n",
       "19  6.58  6.53  3.77\n",
       "20  6.46  6.37  3.92\n",
       "21  6.44  6.38  3.95\n",
       "22  6.33  6.38  4.01\n",
       "23  6.27  6.31  3.99"
      ]
     },
     "execution_count": 8,
     "metadata": {},
     "output_type": "execute_result"
    }
   ],
   "source": [
    "sizes_df = pd.DataFrame(sizes_array)\n",
    "sizes_df.columns = ['x', 'y', 'z']\n",
    "sizes_df"
   ]
  },
  {
   "cell_type": "markdown",
   "metadata": {},
   "source": [
    "change the initial index number from 0 to 1 "
   ]
  },
  {
   "cell_type": "code",
   "execution_count": 9,
   "metadata": {},
   "outputs": [
    {
     "data": {
      "text/html": [
       "<div>\n",
       "<style scoped>\n",
       "    .dataframe tbody tr th:only-of-type {\n",
       "        vertical-align: middle;\n",
       "    }\n",
       "\n",
       "    .dataframe tbody tr th {\n",
       "        vertical-align: top;\n",
       "    }\n",
       "\n",
       "    .dataframe thead th {\n",
       "        text-align: right;\n",
       "    }\n",
       "</style>\n",
       "<table border=\"1\" class=\"dataframe\">\n",
       "  <thead>\n",
       "    <tr style=\"text-align: right;\">\n",
       "      <th></th>\n",
       "      <th>x</th>\n",
       "      <th>y</th>\n",
       "      <th>z</th>\n",
       "    </tr>\n",
       "  </thead>\n",
       "  <tbody>\n",
       "    <tr>\n",
       "      <th>1</th>\n",
       "      <td>6.46</td>\n",
       "      <td>6.42</td>\n",
       "      <td>4.09</td>\n",
       "    </tr>\n",
       "    <tr>\n",
       "      <th>2</th>\n",
       "      <td>6.87</td>\n",
       "      <td>6.84</td>\n",
       "      <td>4.17</td>\n",
       "    </tr>\n",
       "    <tr>\n",
       "      <th>3</th>\n",
       "      <td>6.73</td>\n",
       "      <td>6.66</td>\n",
       "      <td>4.2</td>\n",
       "    </tr>\n",
       "    <tr>\n",
       "      <th>4</th>\n",
       "      <td>6.77</td>\n",
       "      <td>6.72</td>\n",
       "      <td>4.22</td>\n",
       "    </tr>\n",
       "    <tr>\n",
       "      <th>5</th>\n",
       "      <td>6.77</td>\n",
       "      <td>6.72</td>\n",
       "      <td>4.22</td>\n",
       "    </tr>\n",
       "    <tr>\n",
       "      <th>6</th>\n",
       "      <td>6.86</td>\n",
       "      <td>6.9</td>\n",
       "      <td>4.27</td>\n",
       "    </tr>\n",
       "    <tr>\n",
       "      <th>7</th>\n",
       "      <td>6.93</td>\n",
       "      <td>6.8</td>\n",
       "      <td>4.24</td>\n",
       "    </tr>\n",
       "    <tr>\n",
       "      <th>8</th>\n",
       "      <td>6.86</td>\n",
       "      <td>6.74</td>\n",
       "      <td>4.21</td>\n",
       "    </tr>\n",
       "    <tr>\n",
       "      <th>9</th>\n",
       "      <td>6.73</td>\n",
       "      <td>6.68</td>\n",
       "      <td>4.24</td>\n",
       "    </tr>\n",
       "    <tr>\n",
       "      <th>10</th>\n",
       "      <td>6.76</td>\n",
       "      <td>6.72</td>\n",
       "      <td>4.13</td>\n",
       "    </tr>\n",
       "    <tr>\n",
       "      <th>11</th>\n",
       "      <td>6.19</td>\n",
       "      <td>6.23</td>\n",
       "      <td>4.05</td>\n",
       "    </tr>\n",
       "    <tr>\n",
       "      <th>12</th>\n",
       "      <td>6.48</td>\n",
       "      <td>6.5</td>\n",
       "      <td>3.79</td>\n",
       "    </tr>\n",
       "    <tr>\n",
       "      <th>13</th>\n",
       "      <td>6.46</td>\n",
       "      <td>6.41</td>\n",
       "      <td>3.94</td>\n",
       "    </tr>\n",
       "    <tr>\n",
       "      <th>14</th>\n",
       "      <td>6.34</td>\n",
       "      <td>6.41</td>\n",
       "      <td>4.06</td>\n",
       "    </tr>\n",
       "    <tr>\n",
       "      <th>15</th>\n",
       "      <td>6.35</td>\n",
       "      <td>6.3</td>\n",
       "      <td>4.0</td>\n",
       "    </tr>\n",
       "    <tr>\n",
       "      <th>16</th>\n",
       "      <td>6.35</td>\n",
       "      <td>6.3</td>\n",
       "      <td>4.02</td>\n",
       "    </tr>\n",
       "    <tr>\n",
       "      <th>17</th>\n",
       "      <td>6.37</td>\n",
       "      <td>6.31</td>\n",
       "      <td>4.05</td>\n",
       "    </tr>\n",
       "    <tr>\n",
       "      <th>18</th>\n",
       "      <td>6.39</td>\n",
       "      <td>6.34</td>\n",
       "      <td>4.02</td>\n",
       "    </tr>\n",
       "    <tr>\n",
       "      <th>19</th>\n",
       "      <td>6.4</td>\n",
       "      <td>6.32</td>\n",
       "      <td>4.05</td>\n",
       "    </tr>\n",
       "    <tr>\n",
       "      <th>20</th>\n",
       "      <td>6.58</td>\n",
       "      <td>6.53</td>\n",
       "      <td>3.77</td>\n",
       "    </tr>\n",
       "    <tr>\n",
       "      <th>21</th>\n",
       "      <td>6.46</td>\n",
       "      <td>6.37</td>\n",
       "      <td>3.92</td>\n",
       "    </tr>\n",
       "    <tr>\n",
       "      <th>22</th>\n",
       "      <td>6.44</td>\n",
       "      <td>6.38</td>\n",
       "      <td>3.95</td>\n",
       "    </tr>\n",
       "    <tr>\n",
       "      <th>23</th>\n",
       "      <td>6.33</td>\n",
       "      <td>6.38</td>\n",
       "      <td>4.01</td>\n",
       "    </tr>\n",
       "    <tr>\n",
       "      <th>24</th>\n",
       "      <td>6.27</td>\n",
       "      <td>6.31</td>\n",
       "      <td>3.99</td>\n",
       "    </tr>\n",
       "  </tbody>\n",
       "</table>\n",
       "</div>"
      ],
      "text/plain": [
       "       x     y     z\n",
       "1   6.46  6.42  4.09\n",
       "2   6.87  6.84  4.17\n",
       "3   6.73  6.66   4.2\n",
       "4   6.77  6.72  4.22\n",
       "5   6.77  6.72  4.22\n",
       "6   6.86   6.9  4.27\n",
       "7   6.93   6.8  4.24\n",
       "8   6.86  6.74  4.21\n",
       "9   6.73  6.68  4.24\n",
       "10  6.76  6.72  4.13\n",
       "11  6.19  6.23  4.05\n",
       "12  6.48   6.5  3.79\n",
       "13  6.46  6.41  3.94\n",
       "14  6.34  6.41  4.06\n",
       "15  6.35   6.3   4.0\n",
       "16  6.35   6.3  4.02\n",
       "17  6.37  6.31  4.05\n",
       "18  6.39  6.34  4.02\n",
       "19   6.4  6.32  4.05\n",
       "20  6.58  6.53  3.77\n",
       "21  6.46  6.37  3.92\n",
       "22  6.44  6.38  3.95\n",
       "23  6.33  6.38  4.01\n",
       "24  6.27  6.31  3.99"
      ]
     },
     "execution_count": 9,
     "metadata": {},
     "output_type": "execute_result"
    }
   ],
   "source": [
    "sizes_new_index = sizes_df.copy()\n",
    "sizes_new_index = sizes_new_index.reset_index()\n",
    "sizes_new_index['index'] += 1\n",
    "sizes_new_index = sizes_new_index.set_index('index')\n",
    "sizes_new_index.index.name = None\n",
    "sizes_new_index"
   ]
  },
  {
   "cell_type": "markdown",
   "metadata": {},
   "source": [
    "create result"
   ]
  },
  {
   "cell_type": "code",
   "execution_count": 10,
   "metadata": {},
   "outputs": [
    {
     "name": "stdout",
     "output_type": "stream",
     "text": [
      "File Paths:\n",
      "['cut_series.csv', 'cut_sorted.csv', 'carat_series.csv', 'carat_75', 'sizes_df.csv', 'sizes_new_index.csv', 'diamond.ipynb']\n"
     ]
    }
   ],
   "source": [
    "import zipfile\n",
    "import joblib\n",
    "\n",
    "carat_series.to_csv(\"carat_series.csv\")\n",
    "cut_sorted.to_csv(\"cut_sorted.csv\")\n",
    "cut_series.to_csv(\"cut_series.csv\")\n",
    "joblib.dump(carat_75,\"carat_75\")\n",
    "sizes_df.to_csv(\"sizes_df.csv\",index = True)\n",
    "sizes_df.to_csv(\"sizes_new_index.csv\",index = True)\n",
    "                \n",
    "def compress(file_names):\n",
    "    print(\"File Paths:\")\n",
    "    print(file_names)\n",
    "    compression = zipfile.ZIP_DEFLATED\n",
    "    with zipfile.ZipFile(\"result.zip\", mode=\"w\") as zf:\n",
    "        for file_name in file_names:\n",
    "            zf.write('./' + file_name, file_name, compress_type=compression)\n",
    "\n",
    "file_names = [\"cut_series.csv\", \"cut_sorted.csv\", \"carat_series.csv\",\n",
    "              \"carat_75\", \"sizes_df.csv\", \"sizes_new_index.csv\", \"diamond.ipynb\"]\n",
    "compress(file_names)"
   ]
  }
 ],
 "metadata": {
  "kernelspec": {
   "display_name": "qenv",
   "language": "python",
   "name": "qenv"
  },
  "language_info": {
   "codemirror_mode": {
    "name": "ipython",
    "version": 3
   },
   "file_extension": ".py",
   "mimetype": "text/x-python",
   "name": "python",
   "nbconvert_exporter": "python",
   "pygments_lexer": "ipython3",
   "version": "3.11.4"
  }
 },
 "nbformat": 4,
 "nbformat_minor": 2
}
